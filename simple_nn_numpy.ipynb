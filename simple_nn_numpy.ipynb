{
  "nbformat": 4,
  "nbformat_minor": 0,
  "metadata": {
    "colab": {
      "name": "simple_nn_numpy.ipynb",
      "version": "0.3.2",
      "provenance": [],
      "collapsed_sections": [],
      "include_colab_link": true
    },
    "kernelspec": {
      "name": "python3",
      "display_name": "Python 3"
    }
  },
  "cells": [
    {
      "cell_type": "markdown",
      "metadata": {
        "id": "view-in-github",
        "colab_type": "text"
      },
      "source": [
        "<a href=\"https://colab.research.google.com/github/mfatihp/ML_examples/blob/master/simple_nn_numpy.ipynb\" target=\"_parent\"><img src=\"https://colab.research.google.com/assets/colab-badge.svg\" alt=\"Open In Colab\"/></a>"
      ]
    },
    {
      "metadata": {
        "id": "VJaHVTwHKjnM",
        "colab_type": "code",
        "colab": {}
      },
      "cell_type": "code",
      "source": [
        "import numpy as np"
      ],
      "execution_count": 0,
      "outputs": []
    },
    {
      "metadata": {
        "id": "_64Ga6yiL95_",
        "colab_type": "text"
      },
      "cell_type": "markdown",
      "source": [
        "**** neuronCell** **\n",
        "\n",
        "\n",
        "1.   neuronCell().train(x, y, epochs = 1, learning_rate = 0.001)\n",
        "            \n",
        "            x: Feature data\n",
        "            y: Label data\n",
        "            epochs: Cycle number over training data\n",
        "            learning_rate: Step size for optimization\n",
        "            \n",
        "2.   neuronCell().predict(x)\n",
        "\n",
        "            This method was built for binary classification\n",
        "            \n",
        "            x: Feature data\n",
        "\n",
        "\n"
      ]
    },
    {
      "metadata": {
        "id": "mmDxRsUeKx70",
        "colab_type": "code",
        "colab": {}
      },
      "cell_type": "code",
      "source": [
        "# neuron cell\n",
        "class neuronCell:   \n",
        "  def __init__(self):\n",
        "    self.weights = np.array([])\n",
        "    self.bias = 0\n",
        "  \n",
        "  # Train method\n",
        "  def train(self, x, y, epochs = 1, learning_rate=0.001):\n",
        "    self.weights = np.random.rand(np.size(x, 1), 1)\n",
        "    self.bias = np.random.rand(1)\n",
        "    total_loss = 0\n",
        "    for epoch in range(0, epochs-1):\n",
        "      grad_W = 0\n",
        "      grad_bias = 0\n",
        "      yhat = np.array([])\n",
        "      \n",
        "      yhat = np.dot(x, self.weights)\n",
        "      yhat += self.bias * np.ones(yhat.shape)\n",
        "      \n",
        "      # Tanh function for activation\n",
        "      activated_y = np.tanh(yhat)\n",
        "      \n",
        "      # Gradient of squared error\n",
        "      for i in range(0, np.size(x, 0)):\n",
        "        temp = 1\n",
        "        for j in range(0, np.size(x, 1)):\n",
        "           temp *= x[i, j] \n",
        "        temp = -2 * (y[i] - activated_y[i]) * temp\n",
        "        grad_W += temp\n",
        "        grad_bias += -2 * (y[i] - activated_y[i])\n",
        "        \n",
        "      # Mean of gradients \n",
        "      mean_grad_W = (1/np.size(x, 0)) * (grad_W)\n",
        "      mean_grad_bias = (1/np.size(x, 0)) * (grad_bias)\n",
        "      \n",
        "      # Updating weights\n",
        "      self.weights = self.weights - (mean_grad_W * learning_rate)\n",
        "      self.bias = self.bias - (mean_grad_bias * learning_rate)\n",
        "      \n",
        "    return self.weights, self.bias\n",
        "  \n",
        "  # Prediction method\n",
        "  def predict(self, data):\n",
        "    y = np.dot(data, self.weights) + self.bias\n",
        "    y = np.tanh(y)\n",
        "    if y > 0:\n",
        "      prediction = 0\n",
        "    elif y < 0:\n",
        "      prediction = 1\n",
        "    return 'Prediction: ' + str(prediction)"
      ],
      "execution_count": 0,
      "outputs": []
    },
    {
      "metadata": {
        "id": "WKEvBJEHmgMM",
        "colab_type": "code",
        "colab": {}
      },
      "cell_type": "code",
      "source": [
        "# Training data -> XOR\n",
        "x = np.array([[0, 0], [0, 1], [1, 0]])\n",
        "y = np.array([0, 1, 1])"
      ],
      "execution_count": 0,
      "outputs": []
    },
    {
      "metadata": {
        "id": "sRcFqjAXnoGb",
        "colab_type": "code",
        "colab": {}
      },
      "cell_type": "code",
      "source": [
        "cell = neuronCell()"
      ],
      "execution_count": 0,
      "outputs": []
    },
    {
      "metadata": {
        "id": "7KI4epGgnw3r",
        "colab_type": "code",
        "outputId": "a019d07a-9461-4aff-8383-411491a08c0b",
        "colab": {
          "base_uri": "https://localhost:8080/",
          "height": 50
        }
      },
      "cell_type": "code",
      "source": [
        "# Train cell\n",
        "w, b = cell.train(x, y, epochs = 5)\n",
        "print('weights: ', w, ' bias: ', b)"
      ],
      "execution_count": 5,
      "outputs": [
        {
          "output_type": "stream",
          "text": [
            "weights:  [[0.96014492]\n",
            " [0.55030994]]  bias:  [0.30842323]\n"
          ],
          "name": "stdout"
        }
      ]
    },
    {
      "metadata": {
        "id": "f-m6RSxKrNe4",
        "colab_type": "code",
        "outputId": "44c67758-e098-4b2d-d25d-80134cf19b17",
        "colab": {
          "base_uri": "https://localhost:8080/",
          "height": 34
        }
      },
      "cell_type": "code",
      "source": [
        "# Testing cell\n",
        "test_data = np.array([1, 1])\n",
        "test = cell.predict(test_data)\n",
        "print('Test result: ', test)"
      ],
      "execution_count": 6,
      "outputs": [
        {
          "output_type": "stream",
          "text": [
            "Test result:  Prediction: 0\n"
          ],
          "name": "stdout"
        }
      ]
    }
  ]
}