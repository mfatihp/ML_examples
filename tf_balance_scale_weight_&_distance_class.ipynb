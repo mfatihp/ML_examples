{
  "nbformat": 4,
  "nbformat_minor": 0,
  "metadata": {
    "colab": {
      "name": "tf_balance_scale_weight_&_distance_class.ipynb",
      "version": "0.3.2",
      "provenance": [],
      "collapsed_sections": [],
      "include_colab_link": true
    },
    "kernelspec": {
      "name": "python3",
      "display_name": "Python 3"
    }
  },
  "cells": [
    {
      "cell_type": "markdown",
      "metadata": {
        "id": "view-in-github",
        "colab_type": "text"
      },
      "source": [
        "<a href=\"https://colab.research.google.com/github/mfatihp/ML_examples/blob/master/tf_balance_scale_weight_%26_distance_class.ipynb\" target=\"_parent\"><img src=\"https://colab.research.google.com/assets/colab-badge.svg\" alt=\"Open In Colab\"/></a>"
      ]
    },
    {
      "metadata": {
        "id": "ljmUqMxMOPvo",
        "colab_type": "code",
        "colab": {}
      },
      "cell_type": "code",
      "source": [
        "import tensorflow as tf\n",
        "import numpy as np\n",
        "import pandas as pd"
      ],
      "execution_count": 0,
      "outputs": []
    },
    {
      "metadata": {
        "id": "oOYTb3rgRUAw",
        "colab_type": "code",
        "outputId": "1a763671-6af1-40ee-a3a3-331a2c63b05d",
        "colab": {
          "base_uri": "https://localhost:8080/",
          "height": 195
        }
      },
      "cell_type": "code",
      "source": [
        "# Data preprocessing\n",
        "columns = ['Class', 'L_weight', 'L_distance', 'R_weight', 'R_distance']\n",
        "raw_data = pd.read_csv(\"balance-scale(classification).data.txt\", header=None, names=columns)\n",
        "\n",
        "data = raw_data.copy()\n",
        "\n",
        "data.head()"
      ],
      "execution_count": 14,
      "outputs": [
        {
          "output_type": "execute_result",
          "data": {
            "text/html": [
              "<div>\n",
              "<style scoped>\n",
              "    .dataframe tbody tr th:only-of-type {\n",
              "        vertical-align: middle;\n",
              "    }\n",
              "\n",
              "    .dataframe tbody tr th {\n",
              "        vertical-align: top;\n",
              "    }\n",
              "\n",
              "    .dataframe thead th {\n",
              "        text-align: right;\n",
              "    }\n",
              "</style>\n",
              "<table border=\"1\" class=\"dataframe\">\n",
              "  <thead>\n",
              "    <tr style=\"text-align: right;\">\n",
              "      <th></th>\n",
              "      <th>Class</th>\n",
              "      <th>L_weight</th>\n",
              "      <th>L_distance</th>\n",
              "      <th>R_weight</th>\n",
              "      <th>R_distance</th>\n",
              "    </tr>\n",
              "  </thead>\n",
              "  <tbody>\n",
              "    <tr>\n",
              "      <th>0</th>\n",
              "      <td>B</td>\n",
              "      <td>1</td>\n",
              "      <td>1</td>\n",
              "      <td>1</td>\n",
              "      <td>1</td>\n",
              "    </tr>\n",
              "    <tr>\n",
              "      <th>1</th>\n",
              "      <td>R</td>\n",
              "      <td>1</td>\n",
              "      <td>1</td>\n",
              "      <td>1</td>\n",
              "      <td>2</td>\n",
              "    </tr>\n",
              "    <tr>\n",
              "      <th>2</th>\n",
              "      <td>R</td>\n",
              "      <td>1</td>\n",
              "      <td>1</td>\n",
              "      <td>1</td>\n",
              "      <td>3</td>\n",
              "    </tr>\n",
              "    <tr>\n",
              "      <th>3</th>\n",
              "      <td>R</td>\n",
              "      <td>1</td>\n",
              "      <td>1</td>\n",
              "      <td>1</td>\n",
              "      <td>4</td>\n",
              "    </tr>\n",
              "    <tr>\n",
              "      <th>4</th>\n",
              "      <td>R</td>\n",
              "      <td>1</td>\n",
              "      <td>1</td>\n",
              "      <td>1</td>\n",
              "      <td>5</td>\n",
              "    </tr>\n",
              "  </tbody>\n",
              "</table>\n",
              "</div>"
            ],
            "text/plain": [
              "  Class  L_weight  L_distance  R_weight  R_distance\n",
              "0     B         1           1         1           1\n",
              "1     R         1           1         1           2\n",
              "2     R         1           1         1           3\n",
              "3     R         1           1         1           4\n",
              "4     R         1           1         1           5"
            ]
          },
          "metadata": {
            "tags": []
          },
          "execution_count": 14
        }
      ]
    },
    {
      "metadata": {
        "id": "1OB9GfYbo7LN",
        "colab_type": "code",
        "outputId": "8755b99f-eab8-420b-f477-55704240b7da",
        "colab": {
          "base_uri": "https://localhost:8080/",
          "height": 195
        }
      },
      "cell_type": "code",
      "source": [
        "data['Class'].replace(['B', 'L', 'R'], [0, 1, 2], inplace=True)\n",
        "data.head()"
      ],
      "execution_count": 15,
      "outputs": [
        {
          "output_type": "execute_result",
          "data": {
            "text/html": [
              "<div>\n",
              "<style scoped>\n",
              "    .dataframe tbody tr th:only-of-type {\n",
              "        vertical-align: middle;\n",
              "    }\n",
              "\n",
              "    .dataframe tbody tr th {\n",
              "        vertical-align: top;\n",
              "    }\n",
              "\n",
              "    .dataframe thead th {\n",
              "        text-align: right;\n",
              "    }\n",
              "</style>\n",
              "<table border=\"1\" class=\"dataframe\">\n",
              "  <thead>\n",
              "    <tr style=\"text-align: right;\">\n",
              "      <th></th>\n",
              "      <th>Class</th>\n",
              "      <th>L_weight</th>\n",
              "      <th>L_distance</th>\n",
              "      <th>R_weight</th>\n",
              "      <th>R_distance</th>\n",
              "    </tr>\n",
              "  </thead>\n",
              "  <tbody>\n",
              "    <tr>\n",
              "      <th>0</th>\n",
              "      <td>0</td>\n",
              "      <td>1</td>\n",
              "      <td>1</td>\n",
              "      <td>1</td>\n",
              "      <td>1</td>\n",
              "    </tr>\n",
              "    <tr>\n",
              "      <th>1</th>\n",
              "      <td>2</td>\n",
              "      <td>1</td>\n",
              "      <td>1</td>\n",
              "      <td>1</td>\n",
              "      <td>2</td>\n",
              "    </tr>\n",
              "    <tr>\n",
              "      <th>2</th>\n",
              "      <td>2</td>\n",
              "      <td>1</td>\n",
              "      <td>1</td>\n",
              "      <td>1</td>\n",
              "      <td>3</td>\n",
              "    </tr>\n",
              "    <tr>\n",
              "      <th>3</th>\n",
              "      <td>2</td>\n",
              "      <td>1</td>\n",
              "      <td>1</td>\n",
              "      <td>1</td>\n",
              "      <td>4</td>\n",
              "    </tr>\n",
              "    <tr>\n",
              "      <th>4</th>\n",
              "      <td>2</td>\n",
              "      <td>1</td>\n",
              "      <td>1</td>\n",
              "      <td>1</td>\n",
              "      <td>5</td>\n",
              "    </tr>\n",
              "  </tbody>\n",
              "</table>\n",
              "</div>"
            ],
            "text/plain": [
              "   Class  L_weight  L_distance  R_weight  R_distance\n",
              "0      0         1           1         1           1\n",
              "1      2         1           1         1           2\n",
              "2      2         1           1         1           3\n",
              "3      2         1           1         1           4\n",
              "4      2         1           1         1           5"
            ]
          },
          "metadata": {
            "tags": []
          },
          "execution_count": 15
        }
      ]
    },
    {
      "metadata": {
        "id": "u1wUr3riwm1_",
        "colab_type": "code",
        "colab": {}
      },
      "cell_type": "code",
      "source": [
        "# Splitting train and test datas\n",
        "train_data = data.sample(frac=0.8, random_state=0)\n",
        "test_data = data.drop(train_data.index)\n",
        "\n",
        "train_label = train_data.pop('Class')\n",
        "test_label = test_data.pop('Class')"
      ],
      "execution_count": 0,
      "outputs": []
    },
    {
      "metadata": {
        "id": "bZZg-oxbyJBO",
        "colab_type": "code",
        "colab": {}
      },
      "cell_type": "code",
      "source": [
        "# Building model\n",
        "def build_model():\n",
        "  model = tf.keras.models.Sequential([\n",
        "      tf.keras.layers.Dense(32, activation=tf.nn.relu, input_shape=[len(train_data.keys())]),\n",
        "      tf.keras.layers.Dense(16, activation=tf.nn.relu),\n",
        "      tf.keras.layers.Dense(3, activation=tf.nn.softmax)\n",
        "  ])\n",
        "  \n",
        "  model.compile(optimizer='adam', loss='sparse_categorical_crossentropy', metrics=['accuracy'])\n",
        "  \n",
        "  return model"
      ],
      "execution_count": 0,
      "outputs": []
    },
    {
      "metadata": {
        "id": "MazwajI5zEXt",
        "colab_type": "code",
        "colab": {
          "base_uri": "https://localhost:8080/",
          "height": 87
        },
        "outputId": "4bfbd99b-8b63-4191-c5b1-60bc731ab599"
      },
      "cell_type": "code",
      "source": [
        "model = build_model()"
      ],
      "execution_count": 18,
      "outputs": [
        {
          "output_type": "stream",
          "text": [
            "WARNING:tensorflow:From /usr/local/lib/python3.6/dist-packages/tensorflow/python/ops/resource_variable_ops.py:435: colocate_with (from tensorflow.python.framework.ops) is deprecated and will be removed in a future version.\n",
            "Instructions for updating:\n",
            "Colocations handled automatically by placer.\n"
          ],
          "name": "stdout"
        }
      ]
    },
    {
      "metadata": {
        "id": "2xNstJahzLOk",
        "colab_type": "code",
        "outputId": "9463a59d-5ddd-463e-a794-ed06361a59a5",
        "colab": {
          "base_uri": "https://localhost:8080/",
          "height": 235
        }
      },
      "cell_type": "code",
      "source": [
        "model.summary()"
      ],
      "execution_count": 19,
      "outputs": [
        {
          "output_type": "stream",
          "text": [
            "_________________________________________________________________\n",
            "Layer (type)                 Output Shape              Param #   \n",
            "=================================================================\n",
            "dense (Dense)                (None, 32)                160       \n",
            "_________________________________________________________________\n",
            "dense_1 (Dense)              (None, 16)                528       \n",
            "_________________________________________________________________\n",
            "dense_2 (Dense)              (None, 3)                 51        \n",
            "=================================================================\n",
            "Total params: 739\n",
            "Trainable params: 739\n",
            "Non-trainable params: 0\n",
            "_________________________________________________________________\n"
          ],
          "name": "stdout"
        }
      ]
    },
    {
      "metadata": {
        "id": "VcL50HJyzOQc",
        "colab_type": "code",
        "outputId": "1a23dc0b-8293-4605-f076-bced06320120",
        "colab": {
          "base_uri": "https://localhost:8080/",
          "height": 890
        }
      },
      "cell_type": "code",
      "source": [
        "# Training model\n",
        "model.fit(train_data, train_label, epochs=25, validation_split=0.2)"
      ],
      "execution_count": 20,
      "outputs": [
        {
          "output_type": "stream",
          "text": [
            "Train on 400 samples, validate on 100 samples\n",
            "Epoch 1/25\n",
            "400/400 [==============================] - 0s 1ms/sample - loss: 0.7968 - acc: 0.6875 - val_loss: 0.8291 - val_acc: 0.7000\n",
            "Epoch 2/25\n",
            "400/400 [==============================] - 0s 77us/sample - loss: 0.6884 - acc: 0.7875 - val_loss: 0.7347 - val_acc: 0.8200\n",
            "Epoch 3/25\n",
            "400/400 [==============================] - 0s 76us/sample - loss: 0.6090 - acc: 0.8475 - val_loss: 0.6789 - val_acc: 0.8600\n",
            "Epoch 4/25\n",
            "400/400 [==============================] - 0s 67us/sample - loss: 0.5466 - acc: 0.8650 - val_loss: 0.6233 - val_acc: 0.8600\n",
            "Epoch 5/25\n",
            "400/400 [==============================] - 0s 77us/sample - loss: 0.4951 - acc: 0.8725 - val_loss: 0.5826 - val_acc: 0.8500\n",
            "Epoch 6/25\n",
            "400/400 [==============================] - 0s 78us/sample - loss: 0.4560 - acc: 0.8725 - val_loss: 0.5431 - val_acc: 0.8500\n",
            "Epoch 7/25\n",
            "400/400 [==============================] - 0s 77us/sample - loss: 0.4240 - acc: 0.8825 - val_loss: 0.5193 - val_acc: 0.8500\n",
            "Epoch 8/25\n",
            "400/400 [==============================] - 0s 86us/sample - loss: 0.3978 - acc: 0.8900 - val_loss: 0.5009 - val_acc: 0.8500\n",
            "Epoch 9/25\n",
            "400/400 [==============================] - 0s 105us/sample - loss: 0.3766 - acc: 0.8825 - val_loss: 0.4801 - val_acc: 0.8500\n",
            "Epoch 10/25\n",
            "400/400 [==============================] - 0s 67us/sample - loss: 0.3601 - acc: 0.8875 - val_loss: 0.4610 - val_acc: 0.8500\n",
            "Epoch 11/25\n",
            "400/400 [==============================] - 0s 66us/sample - loss: 0.3464 - acc: 0.9000 - val_loss: 0.4470 - val_acc: 0.8500\n",
            "Epoch 12/25\n",
            "400/400 [==============================] - 0s 70us/sample - loss: 0.3345 - acc: 0.8850 - val_loss: 0.4314 - val_acc: 0.8500\n",
            "Epoch 13/25\n",
            "400/400 [==============================] - 0s 67us/sample - loss: 0.3255 - acc: 0.8900 - val_loss: 0.4212 - val_acc: 0.8500\n",
            "Epoch 14/25\n",
            "400/400 [==============================] - 0s 66us/sample - loss: 0.3135 - acc: 0.8875 - val_loss: 0.4095 - val_acc: 0.8500\n",
            "Epoch 15/25\n",
            "400/400 [==============================] - 0s 71us/sample - loss: 0.3041 - acc: 0.8875 - val_loss: 0.3974 - val_acc: 0.8600\n",
            "Epoch 16/25\n",
            "400/400 [==============================] - 0s 82us/sample - loss: 0.2975 - acc: 0.9050 - val_loss: 0.3909 - val_acc: 0.8500\n",
            "Epoch 17/25\n",
            "400/400 [==============================] - 0s 75us/sample - loss: 0.2907 - acc: 0.8875 - val_loss: 0.3870 - val_acc: 0.8500\n",
            "Epoch 18/25\n",
            "400/400 [==============================] - 0s 74us/sample - loss: 0.2842 - acc: 0.9050 - val_loss: 0.3792 - val_acc: 0.8600\n",
            "Epoch 19/25\n",
            "400/400 [==============================] - 0s 65us/sample - loss: 0.2815 - acc: 0.8875 - val_loss: 0.3677 - val_acc: 0.8600\n",
            "Epoch 20/25\n",
            "400/400 [==============================] - 0s 61us/sample - loss: 0.2740 - acc: 0.9050 - val_loss: 0.3590 - val_acc: 0.8600\n",
            "Epoch 21/25\n",
            "400/400 [==============================] - 0s 67us/sample - loss: 0.2678 - acc: 0.8950 - val_loss: 0.3543 - val_acc: 0.8600\n",
            "Epoch 22/25\n",
            "400/400 [==============================] - 0s 69us/sample - loss: 0.2621 - acc: 0.9025 - val_loss: 0.3534 - val_acc: 0.8500\n",
            "Epoch 23/25\n",
            "400/400 [==============================] - 0s 69us/sample - loss: 0.2597 - acc: 0.8950 - val_loss: 0.3479 - val_acc: 0.8600\n",
            "Epoch 24/25\n",
            "400/400 [==============================] - 0s 73us/sample - loss: 0.2557 - acc: 0.9000 - val_loss: 0.3392 - val_acc: 0.8600\n",
            "Epoch 25/25\n",
            "400/400 [==============================] - 0s 67us/sample - loss: 0.2492 - acc: 0.9025 - val_loss: 0.3379 - val_acc: 0.8600\n"
          ],
          "name": "stdout"
        },
        {
          "output_type": "execute_result",
          "data": {
            "text/plain": [
              "<tensorflow.python.keras.callbacks.History at 0x7f8804b80748>"
            ]
          },
          "metadata": {
            "tags": []
          },
          "execution_count": 20
        }
      ]
    },
    {
      "metadata": {
        "id": "luUZuhIO1g9j",
        "colab_type": "code",
        "outputId": "94605aa1-b51a-45f9-ba31-84b796466bf3",
        "colab": {
          "base_uri": "https://localhost:8080/",
          "height": 50
        }
      },
      "cell_type": "code",
      "source": [
        "# Testing model\n",
        "model.evaluate(test_data, test_label)"
      ],
      "execution_count": 21,
      "outputs": [
        {
          "output_type": "stream",
          "text": [
            "125/125 [==============================] - 0s 79us/sample - loss: 0.1586 - acc: 0.9600\n"
          ],
          "name": "stdout"
        },
        {
          "output_type": "execute_result",
          "data": {
            "text/plain": [
              "[0.1586451535820961, 0.96]"
            ]
          },
          "metadata": {
            "tags": []
          },
          "execution_count": 21
        }
      ]
    },
    {
      "metadata": {
        "id": "gmvT8D6VcA4R",
        "colab_type": "code",
        "colab": {
          "base_uri": "https://localhost:8080/",
          "height": 34
        },
        "outputId": "29e0acac-dfb3-4e13-de62-d2664c1c1295"
      },
      "cell_type": "code",
      "source": [
        "prediction = model.predict(test_data)\n",
        "prediction[0]"
      ],
      "execution_count": 36,
      "outputs": [
        {
          "output_type": "execute_result",
          "data": {
            "text/plain": [
              "array([7.6879887e-03, 2.8213416e-04, 9.9202991e-01], dtype=float32)"
            ]
          },
          "metadata": {
            "tags": []
          },
          "execution_count": 36
        }
      ]
    },
    {
      "metadata": {
        "id": "ife8OZaHd_UY",
        "colab_type": "code",
        "colab": {
          "base_uri": "https://localhost:8080/",
          "height": 50
        },
        "outputId": "cbd7e2d0-95d8-4568-a567-51525ef4266c"
      },
      "cell_type": "code",
      "source": [
        "test_label.head(1)"
      ],
      "execution_count": 41,
      "outputs": [
        {
          "output_type": "execute_result",
          "data": {
            "text/plain": [
              "9    2\n",
              "Name: Class, dtype: int64"
            ]
          },
          "metadata": {
            "tags": []
          },
          "execution_count": 41
        }
      ]
    },
    {
      "metadata": {
        "id": "JsPaJxQTdpti",
        "colab_type": "code",
        "colab": {
          "base_uri": "https://localhost:8080/",
          "height": 34
        },
        "outputId": "6d486715-e0e2-47cd-a18c-6c063e55cdd3"
      },
      "cell_type": "code",
      "source": [
        "np.argmax(prediction[0])"
      ],
      "execution_count": 37,
      "outputs": [
        {
          "output_type": "execute_result",
          "data": {
            "text/plain": [
              "2"
            ]
          },
          "metadata": {
            "tags": []
          },
          "execution_count": 37
        }
      ]
    }
  ]
}