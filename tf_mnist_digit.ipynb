{
 "metadata": {
  "language_info": {
   "codemirror_mode": {
    "name": "ipython",
    "version": 3
   },
   "file_extension": ".py",
   "mimetype": "text/x-python",
   "name": "python",
   "nbconvert_exporter": "python",
   "pygments_lexer": "ipython3",
   "version": "3.8.3-final"
  },
  "orig_nbformat": 2,
  "kernelspec": {
   "name": "python_defaultSpec_1598031386015",
   "display_name": "Python 3.8.3 64-bit ('base': conda)"
  }
 },
 "nbformat": 4,
 "nbformat_minor": 2,
 "cells": [
  {
   "cell_type": "code",
   "execution_count": 5,
   "metadata": {},
   "outputs": [
    {
     "output_type": "execute_result",
     "data": {
      "text/plain": "'2.3.0'"
     },
     "metadata": {},
     "execution_count": 5
    }
   ],
   "source": [
    "import pandas as pd\n",
    "import numpy as np\n",
    "import tensorflow as tf\n",
    "from tensorflow import keras\n",
    "from sklearn.model_selection import train_test_split\n",
    "tf.__version__"
   ]
  },
  {
   "cell_type": "code",
   "execution_count": 3,
   "metadata": {},
   "outputs": [
    {
     "output_type": "execute_result",
     "data": {
      "text/plain": "   label  pixel0  pixel1  pixel2  pixel3  pixel4  pixel5  pixel6  pixel7  \\\n0      1       0       0       0       0       0       0       0       0   \n1      0       0       0       0       0       0       0       0       0   \n2      1       0       0       0       0       0       0       0       0   \n3      4       0       0       0       0       0       0       0       0   \n4      0       0       0       0       0       0       0       0       0   \n\n   pixel8  ...  pixel774  pixel775  pixel776  pixel777  pixel778  pixel779  \\\n0       0  ...         0         0         0         0         0         0   \n1       0  ...         0         0         0         0         0         0   \n2       0  ...         0         0         0         0         0         0   \n3       0  ...         0         0         0         0         0         0   \n4       0  ...         0         0         0         0         0         0   \n\n   pixel780  pixel781  pixel782  pixel783  \n0         0         0         0         0  \n1         0         0         0         0  \n2         0         0         0         0  \n3         0         0         0         0  \n4         0         0         0         0  \n\n[5 rows x 785 columns]",
      "text/html": "<div>\n<style scoped>\n    .dataframe tbody tr th:only-of-type {\n        vertical-align: middle;\n    }\n\n    .dataframe tbody tr th {\n        vertical-align: top;\n    }\n\n    .dataframe thead th {\n        text-align: right;\n    }\n</style>\n<table border=\"1\" class=\"dataframe\">\n  <thead>\n    <tr style=\"text-align: right;\">\n      <th></th>\n      <th>label</th>\n      <th>pixel0</th>\n      <th>pixel1</th>\n      <th>pixel2</th>\n      <th>pixel3</th>\n      <th>pixel4</th>\n      <th>pixel5</th>\n      <th>pixel6</th>\n      <th>pixel7</th>\n      <th>pixel8</th>\n      <th>...</th>\n      <th>pixel774</th>\n      <th>pixel775</th>\n      <th>pixel776</th>\n      <th>pixel777</th>\n      <th>pixel778</th>\n      <th>pixel779</th>\n      <th>pixel780</th>\n      <th>pixel781</th>\n      <th>pixel782</th>\n      <th>pixel783</th>\n    </tr>\n  </thead>\n  <tbody>\n    <tr>\n      <th>0</th>\n      <td>1</td>\n      <td>0</td>\n      <td>0</td>\n      <td>0</td>\n      <td>0</td>\n      <td>0</td>\n      <td>0</td>\n      <td>0</td>\n      <td>0</td>\n      <td>0</td>\n      <td>...</td>\n      <td>0</td>\n      <td>0</td>\n      <td>0</td>\n      <td>0</td>\n      <td>0</td>\n      <td>0</td>\n      <td>0</td>\n      <td>0</td>\n      <td>0</td>\n      <td>0</td>\n    </tr>\n    <tr>\n      <th>1</th>\n      <td>0</td>\n      <td>0</td>\n      <td>0</td>\n      <td>0</td>\n      <td>0</td>\n      <td>0</td>\n      <td>0</td>\n      <td>0</td>\n      <td>0</td>\n      <td>0</td>\n      <td>...</td>\n      <td>0</td>\n      <td>0</td>\n      <td>0</td>\n      <td>0</td>\n      <td>0</td>\n      <td>0</td>\n      <td>0</td>\n      <td>0</td>\n      <td>0</td>\n      <td>0</td>\n    </tr>\n    <tr>\n      <th>2</th>\n      <td>1</td>\n      <td>0</td>\n      <td>0</td>\n      <td>0</td>\n      <td>0</td>\n      <td>0</td>\n      <td>0</td>\n      <td>0</td>\n      <td>0</td>\n      <td>0</td>\n      <td>...</td>\n      <td>0</td>\n      <td>0</td>\n      <td>0</td>\n      <td>0</td>\n      <td>0</td>\n      <td>0</td>\n      <td>0</td>\n      <td>0</td>\n      <td>0</td>\n      <td>0</td>\n    </tr>\n    <tr>\n      <th>3</th>\n      <td>4</td>\n      <td>0</td>\n      <td>0</td>\n      <td>0</td>\n      <td>0</td>\n      <td>0</td>\n      <td>0</td>\n      <td>0</td>\n      <td>0</td>\n      <td>0</td>\n      <td>...</td>\n      <td>0</td>\n      <td>0</td>\n      <td>0</td>\n      <td>0</td>\n      <td>0</td>\n      <td>0</td>\n      <td>0</td>\n      <td>0</td>\n      <td>0</td>\n      <td>0</td>\n    </tr>\n    <tr>\n      <th>4</th>\n      <td>0</td>\n      <td>0</td>\n      <td>0</td>\n      <td>0</td>\n      <td>0</td>\n      <td>0</td>\n      <td>0</td>\n      <td>0</td>\n      <td>0</td>\n      <td>0</td>\n      <td>...</td>\n      <td>0</td>\n      <td>0</td>\n      <td>0</td>\n      <td>0</td>\n      <td>0</td>\n      <td>0</td>\n      <td>0</td>\n      <td>0</td>\n      <td>0</td>\n      <td>0</td>\n    </tr>\n  </tbody>\n</table>\n<p>5 rows × 785 columns</p>\n</div>"
     },
     "metadata": {},
     "execution_count": 3
    }
   ],
   "source": [
    "data = pd.read_csv(\"/home/mfatihpolat/Devjobs/Python/mnist_digit/dataset/digit-recognizer/train.csv\")\n",
    "data.head()"
   ]
  },
  {
   "cell_type": "code",
   "execution_count": 4,
   "metadata": {},
   "outputs": [],
   "source": [
    "label = data['label']\n",
    "features = data.drop(columns=['label'])"
   ]
  },
  {
   "cell_type": "code",
   "execution_count": 6,
   "metadata": {},
   "outputs": [],
   "source": [
    "x_train, x_test, y_train, y_test = train_test_split(features, label)"
   ]
  },
  {
   "cell_type": "code",
   "execution_count": 9,
   "metadata": {
    "tags": []
   },
   "outputs": [
    {
     "output_type": "stream",
     "name": "stdout",
     "text": "Data Info\n\n\n==================================================\nTraining features shape: (31500, 784)\n\n\nTest features shape: (10500, 784)\n\n\n==================================================\nTraining label shape: (31500,)\n\n\nTest label shape: (10500,)\n\n\n"
    }
   ],
   "source": [
    "print(\"Data Info\")\n",
    "print(\"\\n\")\n",
    "print(\"=\" * 50)\n",
    "\n",
    "print(f\"Training features shape: {x_train.shape}\")\n",
    "print(\"\\n\")\n",
    "print(f\"Test features shape: {x_test.shape}\")\n",
    "print(\"\\n\")\n",
    "\n",
    "print(\"=\" * 50)\n",
    "print(f\"Training label shape: {y_train.shape}\")\n",
    "print(\"\\n\")\n",
    "print(f\"Test label shape: {y_test.shape}\")\n",
    "print(\"\\n\")"
   ]
  },
  {
   "cell_type": "markdown",
   "metadata": {},
   "source": [
    "## Model Building"
   ]
  },
  {
   "cell_type": "code",
   "execution_count": 13,
   "metadata": {
    "tags": []
   },
   "outputs": [
    {
     "output_type": "stream",
     "name": "stdout",
     "text": "Model: \"sequential_2\"\n_________________________________________________________________\nLayer (type)                 Output Shape              Param #   \n=================================================================\ndense_6 (Dense)              (None, 1, 128)            100480    \n_________________________________________________________________\ndense_7 (Dense)              (None, 1, 128)            16512     \n_________________________________________________________________\ndense_8 (Dense)              (None, 1, 10)             1290      \n=================================================================\nTotal params: 118,282\nTrainable params: 118,282\nNon-trainable params: 0\n_________________________________________________________________\n"
    }
   ],
   "source": [
    "model = keras.models.Sequential([\n",
    "    keras.layers.Dense(128, activation='relu', input_shape=(1, 784)),\n",
    "    keras.layers.Dense(128, activation='relu'),\n",
    "    keras.layers.Dense(10)\n",
    "])\n",
    "\n",
    "model.summary()"
   ]
  },
  {
   "cell_type": "code",
   "execution_count": 17,
   "metadata": {
    "tags": []
   },
   "outputs": [
    {
     "output_type": "stream",
     "name": "stdout",
     "text": "Epoch 1/25\nWARNING:tensorflow:Model was constructed with shape (None, 1, 784) for input Tensor(\"dense_6_input:0\", shape=(None, 1, 784), dtype=float32), but it was called on an input with incompatible shape (None, 784).\nWARNING:tensorflow:Model was constructed with shape (None, 1, 784) for input Tensor(\"dense_6_input:0\", shape=(None, 1, 784), dtype=float32), but it was called on an input with incompatible shape (None, 784).\n670/690 [============================>.] - ETA: 0s - loss: 8.8784 - accuracy: 0.8234WARNING:tensorflow:Model was constructed with shape (None, 1, 784) for input Tensor(\"dense_6_input:0\", shape=(None, 1, 784), dtype=float32), but it was called on an input with incompatible shape (None, 784).\n690/690 [==============================] - 2s 2ms/step - loss: 8.6682 - accuracy: 0.8251 - val_loss: 1.0911 - val_accuracy: 0.8892\nEpoch 2/25\n690/690 [==============================] - 1s 2ms/step - loss: 0.7748 - accuracy: 0.9121 - val_loss: 0.7927 - val_accuracy: 0.9096\nEpoch 3/25\n690/690 [==============================] - 2s 4ms/step - loss: 0.5284 - accuracy: 0.9282 - val_loss: 0.7702 - val_accuracy: 0.9044\nEpoch 4/25\n690/690 [==============================] - 1s 2ms/step - loss: 0.4121 - accuracy: 0.9382 - val_loss: 0.6935 - val_accuracy: 0.9152\nEpoch 5/25\n690/690 [==============================] - 1s 2ms/step - loss: 0.3992 - accuracy: 0.9411 - val_loss: 0.6748 - val_accuracy: 0.9228\nEpoch 6/25\n690/690 [==============================] - 1s 2ms/step - loss: 0.3743 - accuracy: 0.9433 - val_loss: 0.4840 - val_accuracy: 0.9310\nEpoch 7/25\n690/690 [==============================] - 1s 2ms/step - loss: 0.2923 - accuracy: 0.9481 - val_loss: 0.4435 - val_accuracy: 0.9327\nEpoch 8/25\n690/690 [==============================] - 2s 4ms/step - loss: 0.2593 - accuracy: 0.9518 - val_loss: 0.6182 - val_accuracy: 0.9207\nEpoch 9/25\n690/690 [==============================] - 2s 3ms/step - loss: 0.2531 - accuracy: 0.9548 - val_loss: 0.4285 - val_accuracy: 0.9359\nEpoch 10/25\n690/690 [==============================] - 2s 2ms/step - loss: 0.1712 - accuracy: 0.9638 - val_loss: 0.4186 - val_accuracy: 0.9398\nEpoch 11/25\n690/690 [==============================] - 3s 4ms/step - loss: 0.1869 - accuracy: 0.9621 - val_loss: 0.5006 - val_accuracy: 0.9228\nEpoch 12/25\n690/690 [==============================] - 2s 3ms/step - loss: 0.1682 - accuracy: 0.9640 - val_loss: 0.3821 - val_accuracy: 0.9322\nEpoch 13/25\n690/690 [==============================] - 1s 2ms/step - loss: 0.1621 - accuracy: 0.9651 - val_loss: 0.4902 - val_accuracy: 0.9366\nEpoch 14/25\n690/690 [==============================] - 1s 2ms/step - loss: 0.1348 - accuracy: 0.9683 - val_loss: 0.2849 - val_accuracy: 0.9501\nEpoch 15/25\n690/690 [==============================] - 3s 4ms/step - loss: 0.1092 - accuracy: 0.9729 - val_loss: 0.3554 - val_accuracy: 0.9421\nEpoch 16/25\n690/690 [==============================] - 2s 3ms/step - loss: 0.1106 - accuracy: 0.9720 - val_loss: 0.2648 - val_accuracy: 0.9537\nEpoch 17/25\n690/690 [==============================] - 1s 2ms/step - loss: 0.0989 - accuracy: 0.9749 - val_loss: 0.2935 - val_accuracy: 0.9531\nEpoch 18/25\n690/690 [==============================] - 2s 4ms/step - loss: 0.0952 - accuracy: 0.9764 - val_loss: 0.2511 - val_accuracy: 0.9559\nEpoch 19/25\n690/690 [==============================] - 2s 3ms/step - loss: 0.0849 - accuracy: 0.9790 - val_loss: 0.2977 - val_accuracy: 0.9520\nEpoch 20/25\n690/690 [==============================] - 2s 2ms/step - loss: 0.0918 - accuracy: 0.9776 - val_loss: 0.3212 - val_accuracy: 0.9477\nEpoch 21/25\n690/690 [==============================] - 1s 2ms/step - loss: 0.0937 - accuracy: 0.9756 - val_loss: 0.3560 - val_accuracy: 0.9474\nEpoch 22/25\n690/690 [==============================] - 2s 3ms/step - loss: 0.0857 - accuracy: 0.9787 - val_loss: 0.3081 - val_accuracy: 0.9578\nEpoch 23/25\n690/690 [==============================] - 1s 2ms/step - loss: 0.0670 - accuracy: 0.9822 - val_loss: 0.2856 - val_accuracy: 0.9558\nEpoch 24/25\n690/690 [==============================] - 1s 2ms/step - loss: 0.0820 - accuracy: 0.9793 - val_loss: 0.2536 - val_accuracy: 0.9603\nEpoch 25/25\n690/690 [==============================] - 2s 3ms/step - loss: 0.0573 - accuracy: 0.9839 - val_loss: 0.3057 - val_accuracy: 0.9538\n"
    }
   ],
   "source": [
    "model.compile(optimizer='adam',\n",
    "              loss=tf.keras.losses.SparseCategoricalCrossentropy(from_logits=True),\n",
    "              metrics=['accuracy'])\n",
    "\n",
    "hist = model.fit(x_train, y_train, epochs=25, validation_split=0.3)"
   ]
  },
  {
   "cell_type": "code",
   "execution_count": null,
   "metadata": {},
   "outputs": [],
   "source": []
  }
 ]
}