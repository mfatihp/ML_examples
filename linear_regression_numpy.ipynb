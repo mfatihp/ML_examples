{
  "nbformat": 4,
  "nbformat_minor": 0,
  "metadata": {
    "colab": {
      "name": "linear_regression_numpy",
      "version": "0.3.2",
      "provenance": [],
      "collapsed_sections": [],
      "include_colab_link": true
    },
    "kernelspec": {
      "name": "python3",
      "display_name": "Python 3"
    }
  },
  "cells": [
    {
      "cell_type": "markdown",
      "metadata": {
        "id": "view-in-github",
        "colab_type": "text"
      },
      "source": [
        "<a href=\"https://colab.research.google.com/github/mfatihp/ML_examples/blob/master/linear_regression_numpy.ipynb\" target=\"_parent\"><img src=\"https://colab.research.google.com/assets/colab-badge.svg\" alt=\"Open In Colab\"/></a>"
      ]
    },
    {
      "metadata": {
        "id": "896J22EwLBfd",
        "colab_type": "code",
        "colab": {}
      },
      "cell_type": "code",
      "source": [
        "import numpy as np\n",
        "import matplotlib.pyplot as plt"
      ],
      "execution_count": 0,
      "outputs": []
    },
    {
      "metadata": {
        "id": "sjW7Ll13raS5",
        "colab_type": "code",
        "colab": {}
      },
      "cell_type": "code",
      "source": [
        "# Linear regression\n",
        "def linear_regression(x, y, n):\n",
        "  '''\n",
        "  x: features\n",
        "  y: labels\n",
        "  n: number of data points\n",
        "  \n",
        "  '''\n",
        "  xh = 0\n",
        "  yh = 0\n",
        "  xsh = 0\n",
        "  xyh = 0\n",
        "  \n",
        "  for i in range(0, n-1):\n",
        "    xh += x[i] / n\n",
        "    yh += y[i] / n\n",
        "    xsh += ((x[i]) ** 2) / n\n",
        "    xyh += (x[i] * y[i]) / n\n",
        "    \n",
        "  W = (xyh - (xh * yh)) / (xsh - (xh ** 2))\n",
        "  b = yh - (W * xh)\n",
        "  \n",
        "  return W, b"
      ],
      "execution_count": 0,
      "outputs": []
    },
    {
      "metadata": {
        "id": "9i0FsKwg1kzi",
        "colab_type": "code",
        "colab": {}
      },
      "cell_type": "code",
      "source": [
        "# Sample data\n",
        "features = np.array([-2, -1, 1, 4, 1, 2, 5])\n",
        "labels = np.array([-3, -1, 2, 3, 3, 1, 4])"
      ],
      "execution_count": 0,
      "outputs": []
    },
    {
      "metadata": {
        "id": "Bp-lmJDL0XNb",
        "colab_type": "code",
        "colab": {
          "base_uri": "https://localhost:8080/",
          "height": 269
        },
        "outputId": "a0cbbc14-dfd7-4bc3-e226-6507b638f2d4"
      },
      "cell_type": "code",
      "source": [
        "w, b = linear_regression(features, labels, len(features))\n",
        "\n",
        "x = np.linspace(-5, 10, 100)\n",
        "y = b + (w * x)\n",
        "\n",
        "# Plotting\n",
        "plt.plot(x, y, c='r', label='y= b + wx')\n",
        "plt.scatter(features, labels, c='g')\n",
        "plt.legend(loc='upper left')\n",
        "plt.grid()\n",
        "plt.show()"
      ],
      "execution_count": 34,
      "outputs": [
        {
          "output_type": "display_data",
          "data": {
            "image/png": "[encoded data removed]",
            "text/plain": [
              "<Figure size 432x288 with 1 Axes>"
            ]
          },
          "metadata": {
            "tags": []
          }
        }
      ]
    }
  ]
}